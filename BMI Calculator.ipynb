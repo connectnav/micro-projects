{
 "cells": [
  {
   "cell_type": "markdown",
   "id": "aa797c7e",
   "metadata": {},
   "source": [
    "# BMI CALCULATOR"
   ]
  },
  {
   "cell_type": "code",
   "execution_count": 8,
   "id": "edf5526b",
   "metadata": {},
   "outputs": [
    {
     "name": "stdout",
     "output_type": "stream",
     "text": [
      "Enter your height? (in cm)175\n",
      "Enter your weight? (in kg)88\n",
      "Your Body Mass Index is 28 and you are Over Weight\n"
     ]
    }
   ],
   "source": [
    "h=float(input(\"Enter your height? (in cm)\"))/100\n",
    "w=float(input(\"Enter your weight? (in kg)\"))\n",
    "\n",
    "bmi=int(w/(h**2))\n",
    "\n",
    "if bmi < 18.5:\n",
    "    r='Under Weight'\n",
    "elif 18.5 <= bmi <= 24:\n",
    "    r='Normal Weight'\n",
    "elif 25<=bmi<=29.9:\n",
    "    r='Over Weight'\n",
    "elif bmi>=30:\n",
    "    r='Obese!'\n",
    "    \n",
    "print(f'Your Body Mass Index is {bmi} and you are {r}')    "
   ]
  }
 ],
 "metadata": {
  "kernelspec": {
   "display_name": "Python 3 (ipykernel)",
   "language": "python",
   "name": "python3"
  },
  "language_info": {
   "codemirror_mode": {
    "name": "ipython",
    "version": 3
   },
   "file_extension": ".py",
   "mimetype": "text/x-python",
   "name": "python",
   "nbconvert_exporter": "python",
   "pygments_lexer": "ipython3",
   "version": "3.9.7"
  }
 },
 "nbformat": 4,
 "nbformat_minor": 5
}
