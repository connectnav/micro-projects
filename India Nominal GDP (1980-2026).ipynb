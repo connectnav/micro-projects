{
 "cells": [
  {
   "cell_type": "code",
   "execution_count": 1,
   "id": "dd4d1247",
   "metadata": {},
   "outputs": [
    {
     "name": "stdout",
     "output_type": "stream",
     "text": [
      "Requirement already satisfied: matplotlib in c:\\users\\naveen\\anaconda3\\lib\\site-packages (3.4.3)\n",
      "Requirement already satisfied: python-dateutil>=2.7 in c:\\users\\naveen\\anaconda3\\lib\\site-packages (from matplotlib) (2.8.2)\n",
      "Requirement already satisfied: pillow>=6.2.0 in c:\\users\\naveen\\anaconda3\\lib\\site-packages (from matplotlib) (8.4.0)\n",
      "Requirement already satisfied: pyparsing>=2.2.1 in c:\\users\\naveen\\anaconda3\\lib\\site-packages (from matplotlib) (3.0.4)\n",
      "Requirement already satisfied: kiwisolver>=1.0.1 in c:\\users\\naveen\\anaconda3\\lib\\site-packages (from matplotlib) (1.3.1)\n",
      "Requirement already satisfied: cycler>=0.10 in c:\\users\\naveen\\anaconda3\\lib\\site-packages (from matplotlib) (0.10.0)\n",
      "Requirement already satisfied: numpy>=1.16 in c:\\users\\naveen\\anaconda3\\lib\\site-packages (from matplotlib) (1.20.3)\n",
      "Requirement already satisfied: six in c:\\users\\naveen\\anaconda3\\lib\\site-packages (from cycler>=0.10->matplotlib) (1.16.0)\n"
     ]
    }
   ],
   "source": [
    "!pip install matplotlib"
   ]
  },
  {
   "cell_type": "code",
   "execution_count": 15,
   "id": "ed0413c1",
   "metadata": {},
   "outputs": [
    {
     "data": {
      "image/png": "[encoded data removed]",
      "text/plain": [
       "<Figure size 432x288 with 1 Axes>"
      ]
     },
     "metadata": {
      "needs_background": "light"
     },
     "output_type": "display_data"
    }
   ],
   "source": [
    "from matplotlib import pyplot as plt\n",
    "\n",
    "gdp= [189.4\n",
    ",196.5\n",
    ",203.5\n",
    ",222.0\n",
    ",215.6\n",
    ",237.6\n",
    ",252.8\n",
    ",283.8\n",
    ",299.6\n",
    ",301.2\n",
    ",326.6\n",
    ",274.8\n",
    ",293.3\n",
    ",284.2\n",
    ",333.0\n",
    ",366.6\n",
    ",399.8\n",
    ",423.2\n",
    ",428.8\n",
    ",466.8\n",
    ",476.6\n",
    ",493.9,523.8,618.4,721.6,834.2,949.1,1238.7,1224.1,1365.4,1708.5,1823.1,1827.6,1856.7,2039.1,2103.6,2294.1,2651.5,2701.1,2870.5,2708.8,3049.7,3312.9\n",
    ",3591.0\n",
    ",3884.7\n",
    ",4199.0,4534.3]\n",
    "\n",
    "year= [1980,\n",
    "1981,\n",
    "1982,\n",
    "1983,\n",
    "1984,\n",
    "1985,\n",
    "1986,\n",
    "1987,\n",
    "1988,\n",
    "1989,\n",
    "1990,\n",
    "1991,\n",
    "1992,\n",
    "1993,\n",
    "1994,\n",
    "1995,\n",
    "1996,\n",
    "1997,\n",
    "1998,\n",
    "1999,\n",
    "2000,\n",
    "2001,\n",
    "2002,\n",
    "2003,\n",
    "2004,\n",
    "2005,\n",
    "2006,\n",
    "2007,\n",
    "2008,\n",
    "2009,\n",
    "2010,\n",
    "2011,\n",
    "2012,\n",
    "2013,\n",
    "2014,\n",
    "2015,\n",
    "2016,\n",
    "2017,\n",
    "2018,\n",
    "2019,\n",
    "2020,\n",
    "2021,\n",
    "2022,\n",
    "2023,\n",
    "2024,\n",
    "2025,\n",
    "2026]\n",
    "\n",
    "plt.plot(year,gdp, color='g',marker='.',linestyle=':')\n",
    "\n",
    "plt.title(\"Nominal GDP of India\")\n",
    "\n",
    "plt.ylabel(\"nominal GDP in millions of USD\")\n",
    "plt.xlabel(\"years->\")\n",
    "\n",
    "plt.show()"
   ]
  }
 ],
 "metadata": {
  "kernelspec": {
   "display_name": "Python 3 (ipykernel)",
   "language": "python",
   "name": "python3"
  },
  "language_info": {
   "codemirror_mode": {
    "name": "ipython",
    "version": 3
   },
   "file_extension": ".py",
   "mimetype": "text/x-python",
   "name": "python",
   "nbconvert_exporter": "python",
   "pygments_lexer": "ipython3",
   "version": "3.9.7"
  }
 },
 "nbformat": 4,
 "nbformat_minor": 5
}
